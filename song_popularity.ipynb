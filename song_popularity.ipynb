{
 "cells": [
  {
   "cell_type": "markdown",
   "metadata": {},
   "source": [
    "## Setup"
   ]
  },
  {
   "cell_type": "code",
   "execution_count": 11,
   "metadata": {},
   "outputs": [],
   "source": [
    "# Python ≥3.5 is required\n",
    "import sys\n",
    "assert sys.version_info >= (3, 5)\n",
    "\n",
    "# Scikit-Learn ≥0.20 is required\n",
    "import sklearn\n",
    "assert sklearn.__version__ >= \"0.20\"\n",
    "\n",
    "# Common imports\n",
    "import numpy as np\n",
    "import pandas as pd\n",
    "import os\n",
    "\n",
    "# To plot pretty figures\n",
    "%matplotlib inline\n",
    "import matplotlib as mpl\n",
    "import matplotlib.pyplot as plt\n",
    "mpl.rc('axes', labelsize=14)\n",
    "mpl.rc('xtick', labelsize=12)\n",
    "mpl.rc('ytick', labelsize=12)"
   ]
  },
  {
   "cell_type": "markdown",
   "metadata": {},
   "source": [
    "## Get the data"
   ]
  },
  {
   "cell_type": "code",
   "execution_count": 21,
   "metadata": {},
   "outputs": [],
   "source": [
    "import os\n",
    "import requests\n",
    "import zipfile\n",
    "import pandas as pd\n",
    "\n",
    "\n",
    "url = \"https://www.kaggle.com/api/v1/datasets/download/joebeachcapital/30000-spotify-songs\"\n",
    "zip_path = \"spotify_songs.zip\"\n",
    "extract_path = \"./datasets\"\n",
    "#create dataframe songs:\n",
    "\n",
    "\n",
    "# Faz o download do arquivo zip\n",
    "response = requests.get(url)\n",
    "with open(zip_path, \"wb\") as file:\n",
    "    file.write(response.content)\n",
    "os.makedirs(extract_path, exist_ok=True)\n",
    "\n",
    "with zipfile.ZipFile(zip_path, \"r\") as zip_ref:\n",
    "    zip_ref.extractall(extract_path)"
   ]
  },
  {
   "cell_type": "markdown",
   "metadata": {},
   "source": [
    "## Take a quick look at the dataset"
   ]
  },
  {
   "cell_type": "code",
   "execution_count": null,
   "metadata": {},
   "outputs": [],
   "source": [
    "csv_path = os.path.join(extract_path, \"spotify_songs.csv\")\n",
    "songs = pd.read_csv(csv_path)\n",
    "print(songs.head())"
   ]
  },
  {
   "cell_type": "code",
   "execution_count": null,
   "metadata": {},
   "outputs": [],
   "source": [
    "songs.info()"
   ]
  },
  {
   "cell_type": "code",
   "execution_count": null,
   "metadata": {},
   "outputs": [],
   "source": [
    "pd.set_option('display.max_rows', None)\n",
    "songs[\"playlist_genre\"].value_counts()"
   ]
  },
  {
   "cell_type": "code",
   "execution_count": null,
   "metadata": {},
   "outputs": [],
   "source": [
    "# Agrupar por 'playlist_genre' e calcular a média da popularidade\n",
    "genre_popularity = songs.groupby(\"playlist_genre\")[\"track_popularity\"].mean()\n",
    "\n",
    "# Ordenar os resultados em ordem decrescente\n",
    "genre_popularity_sorted = genre_popularity.sort_values(ascending=False)\n",
    "\n",
    "# Exibir os gêneros com músicas mais populares\n",
    "print(genre_popularity_sorted)\n"
   ]
  },
  {
   "cell_type": "code",
   "execution_count": null,
   "metadata": {},
   "outputs": [],
   "source": [
    "# Encontrar o valor máximo de popularidade\n",
    "max_popularity = songs[\"track_popularity\"].max()\n",
    "\n",
    "# Filtrar todas as músicas com a popularidade máxima\n",
    "most_popular_songs = songs[songs[\"track_popularity\"] == max_popularity]\n",
    "\n",
    "# Exibir o resultado\n",
    "print(most_popular_songs[[\"track_name\", \"track_popularity\"]])\n"
   ]
  },
  {
   "cell_type": "code",
   "execution_count": null,
   "metadata": {},
   "outputs": [],
   "source": [
    "# Ordenar as músicas pela popularidade em ordem decrescente\n",
    "songs_sorted = songs.sort_values(by=\"track_popularity\", ascending=False)\n",
    "\n",
    "# Exibir apenas o nome das músicas, nome dos artistas e suas popularidades\n",
    "(songs_sorted[[\"track_name\", \"track_popularity\", \"track_artist\"]]).head(20)"
   ]
  },
  {
   "cell_type": "code",
   "execution_count": null,
   "metadata": {},
   "outputs": [],
   "source": [
    "songs.describe()"
   ]
  },
  {
   "cell_type": "code",
   "execution_count": null,
   "metadata": {},
   "outputs": [],
   "source": [
    "import matplotlib.pyplot as plt\n",
    "songs.hist(bins=50, figsize=(20,15))\n",
    "plt.show()"
   ]
  },
  {
   "cell_type": "markdown",
   "metadata": {},
   "source": [
    "## Create a Set Test"
   ]
  },
  {
   "cell_type": "code",
   "execution_count": 15,
   "metadata": {},
   "outputs": [],
   "source": [
    "#to make this notebook's output identical at every run\n",
    "np.random.seed(42)"
   ]
  },
  {
   "cell_type": "code",
   "execution_count": null,
   "metadata": {},
   "outputs": [],
   "source": [
    "import numpy as np# Use train_test_split to split the data into a training set and a test set\n",
    "from sklearn.model_selection import train_test_split\n",
    "\n",
    "train_set, test_set = train_test_split(songs, test_size=0.2, random_state=42)\n",
    "len(train_set)"
   ]
  },
  {
   "cell_type": "code",
   "execution_count": null,
   "metadata": {},
   "outputs": [],
   "source": [
    "len(test_set)"
   ]
  },
  {
   "cell_type": "markdown",
   "metadata": {},
   "source": [
    "## Criar uma cópia do conjunto de treino"
   ]
  },
  {
   "cell_type": "code",
   "execution_count": 18,
   "metadata": {},
   "outputs": [],
   "source": [
    "songs_cp = songs.copy()"
   ]
  },
  {
   "cell_type": "markdown",
   "metadata": {},
   "source": [
    "## Retirar músicas duplicadas"
   ]
  },
  {
   "cell_type": "code",
   "execution_count": null,
   "metadata": {},
   "outputs": [],
   "source": [
    "# Remover duplicatas, mantendo apenas uma ocorrência de cada 'track_name' e 'track_artist'\n",
    "#songs_cp_unique = songs_cp.drop_duplicates(subset=[\"track_name\", \"track_artist\"])\n",
    "\n",
    "songs_cp_unique = songs_cp.drop_duplicates(subset=[\"track_id\"])\n",
    "\n",
    "#songs_cp_unique = songs_cp\n",
    "\n",
    "# Ordenar pela popularidade para manter a ordem\n",
    "#songs_cp_sorted = songs_cp_unique.sort_values(by=\"track_popularity\", ascending=False)\n",
    "songs_cp_sorted = songs_cp_unique.sort_values(by=[\"track_name\", \"track_artist\"], ascending=False)\n",
    "\n",
    "\n",
    "# Exibir as músicas sem duplicatas\n",
    "songs_cp_sorted[[\"track_name\", \"track_popularity\", \"track_artist\"]].head(20)\n",
    "\n",
    "# Selecionar linha de indice do dataframe songs_cp_sorted com track_id 2XU0oxnq2qxCpomAAuJY8K\n",
    "#songs_cp.loc[songs_cp[\"track_id\"] == \"2XU0oxnq2qxCpomAAuJY8K\"]\n"
   ]
  },
  {
   "cell_type": "code",
   "execution_count": null,
   "metadata": {},
   "outputs": [],
   "source": [
    "songs_cp.sort_values(by=\"track_popularity\", ascending=False)[[\"track_name\", \"track_popularity\", \"track_artist\"]].head(20)"
   ]
  },
  {
   "cell_type": "code",
   "execution_count": null,
   "metadata": {},
   "outputs": [],
   "source": [
    "len(songs_cp_sorted)"
   ]
  }
 ],
 "metadata": {
  "kernelspec": {
   "display_name": "venv",
   "language": "python",
   "name": "python3"
  },
  "language_info": {
   "codemirror_mode": {
    "name": "ipython",
    "version": 3
   },
   "file_extension": ".py",
   "mimetype": "text/x-python",
   "name": "python",
   "nbconvert_exporter": "python",
   "pygments_lexer": "ipython3",
   "version": "3.10.12"
  }
 },
 "nbformat": 4,
 "nbformat_minor": 2
}
