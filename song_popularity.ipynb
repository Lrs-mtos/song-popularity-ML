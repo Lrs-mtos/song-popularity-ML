{
  "cells": [
    {
      "cell_type": "markdown",
      "metadata": {
        "id": "view-in-github",
        "colab_type": "text"
      },
      "source": [
        "<a href=\"https://colab.research.google.com/github/Lrs-mtos/song-popularity-ML/blob/develop_edinaldo/song_popularity.ipynb\" target=\"_parent\"><img src=\"https://colab.research.google.com/assets/colab-badge.svg\" alt=\"Open In Colab\"/></a>"
      ]
    },
    {
      "cell_type": "markdown",
      "metadata": {
        "id": "1HwqR_fKNR-X"
      },
      "source": [
        "## Setup"
      ]
    },
    {
      "cell_type": "code",
      "execution_count": 1,
      "metadata": {
        "id": "_xeiDQ8LNR-Z"
      },
      "outputs": [],
      "source": [
        "# Python ≥3.5 is required\n",
        "import sys\n",
        "assert sys.version_info >= (3, 5)\n",
        "\n",
        "# Scikit-Learn ≥0.20 is required\n",
        "import sklearn\n",
        "assert sklearn.__version__ >= \"0.20\"\n",
        "\n",
        "\n",
        "# Common imports\n",
        "import numpy as np\n",
        "import pandas as pd\n",
        "from pandas.plotting import scatter_matrix\n",
        "from sklearn.preprocessing import MinMaxScaler\n",
        "from sklearn.model_selection import train_test_split\n",
        "import os\n",
        "\n",
        "# To plot pretty figures\n",
        "%matplotlib inline\n",
        "import matplotlib as mpl\n",
        "import matplotlib.pyplot as plt\n",
        "mpl.rc('axes', labelsize=14)\n",
        "mpl.rc('xtick', labelsize=12)\n",
        "mpl.rc('ytick', labelsize=12)\n"
      ]
    },
    {
      "cell_type": "markdown",
      "metadata": {
        "id": "DCrp0Z7XNR-b"
      },
      "source": [
        "## Get the data"
      ]
    },
    {
      "cell_type": "code",
      "execution_count": null,
      "metadata": {
        "id": "_pvFLC_lNR-b"
      },
      "outputs": [],
      "source": [
        "import os\n",
        "import requests\n",
        "import zipfile\n",
        "import pandas as pd\n",
        "\n",
        "\n",
        "url = \"https://www.kaggle.com/api/v1/datasets/download/joebeachcapital/30000-spotify-songs\"\n",
        "zip_path = \"spotify_songs.zip\"\n",
        "extract_path = \"./datasets\"\n",
        "#create dataframe songs:\n",
        "\n",
        "\n",
        "# Faz o download do arquivo zip\n",
        "response = requests.get(url)\n",
        "with open(zip_path, \"wb\") as file:\n",
        "    file.write(response.content)\n",
        "os.makedirs(extract_path, exist_ok=True)\n",
        "\n",
        "with zipfile.ZipFile(zip_path, \"r\") as zip_ref:\n",
        "    zip_ref.extractall(extract_path)"
      ]
    },
    {
      "cell_type": "markdown",
      "metadata": {
        "id": "kdPTvYXBNR-c"
      },
      "source": [
        "## Take a quick look at the dataset"
      ]
    },
    {
      "cell_type": "code",
      "execution_count": null,
      "metadata": {
        "id": "VA03ct1nNR-c",
        "outputId": "ca8a25ad-28f2-4dee-a3fe-75b64be4c7e5"
      },
      "outputs": [
        {
          "name": "stdout",
          "output_type": "stream",
          "text": [
            "                 track_id                                         track_name  \\\n",
            "0  6f807x0ima9a1j3VPbc7VN  I Don't Care (with Justin Bieber) - Loud Luxur...   \n",
            "1  0r7CVbZTWZgbTCYdfa2P31                    Memories - Dillon Francis Remix   \n",
            "2  1z1Hg7Vb0AhHDiEmnDE79l                    All the Time - Don Diablo Remix   \n",
            "3  75FpbthrwQmzHlBJLuGdC7                  Call You Mine - Keanu Silva Remix   \n",
            "4  1e8PAfcKUYoKkxPhrHqw4x            Someone You Loved - Future Humans Remix   \n",
            "\n",
            "       track_artist  track_popularity          track_album_id  \\\n",
            "0        Ed Sheeran                66  2oCs0DGTsRO98Gh5ZSl2Cx   \n",
            "1          Maroon 5                67  63rPSO264uRjW1X5E6cWv6   \n",
            "2      Zara Larsson                70  1HoSmj2eLcsrR0vE9gThr4   \n",
            "3  The Chainsmokers                60  1nqYsOef1yKKuGOVchbsk6   \n",
            "4     Lewis Capaldi                69  7m7vv9wlQ4i0LFuJiE2zsQ   \n",
            "\n",
            "                                    track_album_name track_album_release_date  \\\n",
            "0  I Don't Care (with Justin Bieber) [Loud Luxury...               2019-06-14   \n",
            "1                    Memories (Dillon Francis Remix)               2019-12-13   \n",
            "2                    All the Time (Don Diablo Remix)               2019-07-05   \n",
            "3                        Call You Mine - The Remixes               2019-07-19   \n",
            "4            Someone You Loved (Future Humans Remix)               2019-03-05   \n",
            "\n",
            "  playlist_name             playlist_id playlist_genre  ... key  loudness  \\\n",
            "0     Pop Remix  37i9dQZF1DXcZDD7cfEKhW            pop  ...   6    -2.634   \n",
            "1     Pop Remix  37i9dQZF1DXcZDD7cfEKhW            pop  ...  11    -4.969   \n",
            "2     Pop Remix  37i9dQZF1DXcZDD7cfEKhW            pop  ...   1    -3.432   \n",
            "3     Pop Remix  37i9dQZF1DXcZDD7cfEKhW            pop  ...   7    -3.778   \n",
            "4     Pop Remix  37i9dQZF1DXcZDD7cfEKhW            pop  ...   1    -4.672   \n",
            "\n",
            "   mode  speechiness  acousticness  instrumentalness  liveness  valence  \\\n",
            "0     1       0.0583        0.1020          0.000000    0.0653    0.518   \n",
            "1     1       0.0373        0.0724          0.004210    0.3570    0.693   \n",
            "2     0       0.0742        0.0794          0.000023    0.1100    0.613   \n",
            "3     1       0.1020        0.0287          0.000009    0.2040    0.277   \n",
            "4     1       0.0359        0.0803          0.000000    0.0833    0.725   \n",
            "\n",
            "     tempo  duration_ms  \n",
            "0  122.036       194754  \n",
            "1   99.972       162600  \n",
            "2  124.008       176616  \n",
            "3  121.956       169093  \n",
            "4  123.976       189052  \n",
            "\n",
            "[5 rows x 23 columns]\n"
          ]
        }
      ],
      "source": [
        "csv_path = os.path.join(extract_path, \"spotify_songs.csv\")\n",
        "songs = pd.read_csv(csv_path)\n",
        "print(songs.head())"
      ]
    },
    {
      "cell_type": "code",
      "execution_count": null,
      "metadata": {
        "id": "6pJrVOhcNR-e",
        "outputId": "27186b14-a2f8-4710-84ca-99c6e05fac6a"
      },
      "outputs": [
        {
          "name": "stdout",
          "output_type": "stream",
          "text": [
            "<class 'pandas.core.frame.DataFrame'>\n",
            "RangeIndex: 32833 entries, 0 to 32832\n",
            "Data columns (total 23 columns):\n",
            " #   Column                    Non-Null Count  Dtype  \n",
            "---  ------                    --------------  -----  \n",
            " 0   track_id                  32833 non-null  object \n",
            " 1   track_name                32828 non-null  object \n",
            " 2   track_artist              32828 non-null  object \n",
            " 3   track_popularity          32833 non-null  int64  \n",
            " 4   track_album_id            32833 non-null  object \n",
            " 5   track_album_name          32828 non-null  object \n",
            " 6   track_album_release_date  32833 non-null  object \n",
            " 7   playlist_name             32833 non-null  object \n",
            " 8   playlist_id               32833 non-null  object \n",
            " 9   playlist_genre            32833 non-null  object \n",
            " 10  playlist_subgenre         32833 non-null  object \n",
            " 11  danceability              32833 non-null  float64\n",
            " 12  energy                    32833 non-null  float64\n",
            " 13  key                       32833 non-null  int64  \n",
            " 14  loudness                  32833 non-null  float64\n",
            " 15  mode                      32833 non-null  int64  \n",
            " 16  speechiness               32833 non-null  float64\n",
            " 17  acousticness              32833 non-null  float64\n",
            " 18  instrumentalness          32833 non-null  float64\n",
            " 19  liveness                  32833 non-null  float64\n",
            " 20  valence                   32833 non-null  float64\n",
            " 21  tempo                     32833 non-null  float64\n",
            " 22  duration_ms               32833 non-null  int64  \n",
            "dtypes: float64(9), int64(4), object(10)\n",
            "memory usage: 5.8+ MB\n"
          ]
        }
      ],
      "source": [
        "songs.info()"
      ]
    },
    {
      "cell_type": "code",
      "execution_count": null,
      "metadata": {
        "id": "rUSp9uelNR-e",
        "outputId": "c126ff50-140b-4110-d59c-a27102cbc1b1"
      },
      "outputs": [
        {
          "data": {
            "text/plain": [
              "playlist_genre\n",
              "edm      6043\n",
              "rap      5746\n",
              "pop      5507\n",
              "r&b      5431\n",
              "latin    5155\n",
              "rock     4951\n",
              "Name: count, dtype: int64"
            ]
          },
          "execution_count": 5,
          "metadata": {},
          "output_type": "execute_result"
        }
      ],
      "source": [
        "pd.set_option('display.max_rows', None)\n",
        "songs[\"playlist_genre\"].value_counts()"
      ]
    },
    {
      "cell_type": "markdown",
      "source": [
        "## Create a Set Test"
      ],
      "metadata": {
        "id": "fqDKSjEWb_6g"
      }
    },
    {
      "cell_type": "code",
      "source": [
        "#to make this notebook's output identical at every run\n",
        "np.random.seed(42)\n",
        "\n",
        "train_set, test_set = train_test_split(songs, test_size=0.2, random_state=42)\n",
        "len(train_set)"
      ],
      "metadata": {
        "id": "IIWo55wDcKnH"
      },
      "execution_count": null,
      "outputs": []
    },
    {
      "cell_type": "code",
      "source": [
        "len(test_set)"
      ],
      "metadata": {
        "id": "P4jSjsY8cgm2"
      },
      "execution_count": null,
      "outputs": []
    },
    {
      "cell_type": "markdown",
      "source": [
        "# Checklist 3: Explore os dados"
      ],
      "metadata": {
        "id": "MkP_rnCqN37-"
      }
    },
    {
      "cell_type": "markdown",
      "source": [
        "## 1. Crie uma cópia dos dados para exploração(amostragem até um tamanho gerenciavel se necessário)"
      ],
      "metadata": {
        "id": "Tw9XlkqZODQt"
      }
    },
    {
      "cell_type": "code",
      "source": [
        "songs_cp = songs.copy()"
      ],
      "metadata": {
        "id": "7Gno9kS3OQFv"
      },
      "execution_count": null,
      "outputs": []
    },
    {
      "cell_type": "markdown",
      "source": [
        "## 2. Crie um Jupyter Notebook para manter um registro de sua exploração de dados\n"
      ],
      "metadata": {
        "id": "3cA4_a8VOVE1"
      }
    },
    {
      "cell_type": "markdown",
      "source": [],
      "metadata": {
        "id": "ZMQgXz-oPs0p"
      }
    },
    {
      "cell_type": "markdown",
      "source": [
        "## 3. Estude cada atributo e suas propriedades"
      ],
      "metadata": {
        "id": "biO_6P3lOjW7"
      }
    },
    {
      "cell_type": "markdown",
      "source": [],
      "metadata": {
        "id": "pJJILHh3PpTQ"
      }
    },
    {
      "cell_type": "markdown",
      "source": [
        "## 4. Para tarefas de aprendizado supervisionado, identifique o(s) atributo(s)-alvo"
      ],
      "metadata": {
        "id": "7oO0_c_eOrml"
      }
    },
    {
      "cell_type": "code",
      "source": [
        "songs_cp['track_popularity']"
      ],
      "metadata": {
        "id": "lpgNEtslPgy9"
      },
      "execution_count": null,
      "outputs": []
    },
    {
      "cell_type": "markdown",
      "source": [
        "## 5. visualize os dados\n",
        "## 6. Estude a correlação entre os dados"
      ],
      "metadata": {
        "id": "AsT8GOPaPywD"
      }
    },
    {
      "cell_type": "markdown",
      "source": [
        "- Matriz de correlação"
      ],
      "metadata": {
        "id": "nEjzcxhQQMz-"
      }
    },
    {
      "cell_type": "code",
      "source": [
        "# Se seu DataFrame é 'songs_cp', selecione apenas colunas numéricas\n",
        "songs_cp_numeric = songs_cp.select_dtypes(include=['int64', 'float64'])\n",
        "\n",
        "# Agora calcule a matriz de correlação apenas com colunas numéricas\n",
        "corr_matrix = songs_cp_numeric.corr()\n",
        "\n",
        "# Se quiser ver a correlação de uma coluna específica, substitua \"alguma_coluna\"\n",
        "# por um nome de coluna que seja numérica\n",
        "corr_matrix[\"track_popularity\"].sort_values(ascending=False)"
      ],
      "metadata": {
        "id": "671t5v6pP3gw"
      },
      "execution_count": null,
      "outputs": []
    },
    {
      "cell_type": "code",
      "source": [
        "attributes = [\"track_popularity\", \"danceability\", \"acousticness\", \"instrumentalness\", \"duration_ms\"]\n",
        "scatter_matrix(songs_cp[attributes], figsize=(20, 20))"
      ],
      "metadata": {
        "id": "WXebAsLIQ_33"
      },
      "execution_count": null,
      "outputs": []
    },
    {
      "cell_type": "markdown",
      "source": [
        "- Grafico que mostra a distribuição dos dados"
      ],
      "metadata": {
        "id": "onfLIGR5RZPe"
      }
    },
    {
      "cell_type": "code",
      "source": [
        "songs.hist(bins=50, figsize=(20,15))\n",
        "plt.show()"
      ],
      "metadata": {
        "id": "NbUo7oxuRgAK"
      },
      "execution_count": null,
      "outputs": []
    },
    {
      "cell_type": "markdown",
      "source": [
        "- grafico de relacionamento em pares com uso de grade de axes"
      ],
      "metadata": {
        "id": "UzHs8PKBSQi5"
      }
    },
    {
      "cell_type": "code",
      "source": [
        "sns.pairplot(songs_cp, vars=[ \"energy\", \"loudness\", \"speechiness\", \"acousticness\", \"instrumentalness\", \"liveness\", \"valence\", \"tempo\"],\n",
        "             hue=\"track_popularity\")"
      ],
      "metadata": {
        "id": "QbbvpfM4SXh7"
      },
      "execution_count": null,
      "outputs": []
    },
    {
      "cell_type": "markdown",
      "source": [
        "- usando boxplot a fim de procurar possiveis Outliers e concentração de dados"
      ],
      "metadata": {
        "id": "7kDN87EHSstW"
      }
    },
    {
      "cell_type": "code",
      "source": [
        "plt.figure(figsize=(10, 6))\n",
        "sns.boxplot(x=songs['speechiness'])\n",
        "plt.title('Boxplot de Speechiness')\n",
        "plt.figure(figsize=(10, 6))\n",
        "sns.boxplot(x=songs['acousticness'])\n",
        "plt.title('Boxplot de acousticness')\n",
        "plt.figure(figsize=(10, 6))\n",
        "sns.boxplot(x=songs['instrumentalness'])\n",
        "plt.title('Boxplot de instrumentalness')\n",
        "plt.figure(figsize=(10, 6))\n",
        "sns.boxplot(x=songs['liveness'])\n",
        "plt.title('Boxplot de liveness')\n",
        "plt.figure(figsize=(10, 6))\n",
        "sns.boxplot(x=songs['valence'])\n",
        "plt.title('Boxplot de valence')\n",
        "plt.figure(figsize=(10, 6))\n",
        "sns.boxplot(x=songs['tempo'])\n",
        "plt.title('Boxplot de tempo')\n",
        "plt.figure(figsize=(10, 6))\n",
        "sns.boxplot(x=songs['duration_ms'])\n",
        "plt.title('Boxplot de duration_ms')\n",
        "plt.figure(figsize=(10, 6))\n",
        "sns.boxplot(x=songs['loudness'])\n",
        "plt.title('Boxplot de loudness')\n",
        "plt.figure(figsize=(10, 6))\n",
        "sns.boxplot(x=songs['energy'])\n",
        "plt.title('Boxplot de energy')\n",
        "plt.figure(figsize=(10, 6))\n",
        "sns.boxplot(x=songs['danceability'])\n",
        "plt.title('Boxplot de danceability')\n",
        "plt.figure(figsize=(10, 6))\n",
        "sns.boxplot(x=songs['track_popularity'])\n",
        "plt.title('Boxplot de track_popularity')\n",
        "plt.figure(figsize=(10, 6))\n",
        "sns.boxplot(x=songs['key'])\n",
        "plt.title('Boxplot de key')\n",
        "plt.figure(figsize=(10, 6))\n",
        "sns.boxplot(x=songs['mode'])\n",
        "plt.title('Boxplot de mode')\n",
        "plt.show()"
      ],
      "metadata": {
        "id": "SbcreOKJS0XS"
      },
      "execution_count": null,
      "outputs": []
    },
    {
      "cell_type": "markdown",
      "source": [
        "## 7. Estude como você resolveria o problema manualmente"
      ],
      "metadata": {
        "id": "NwPaKMEHTNSr"
      }
    },
    {
      "cell_type": "markdown",
      "source": [],
      "metadata": {
        "id": "knB-U-v2TVpf"
      }
    },
    {
      "cell_type": "markdown",
      "source": [
        "## 8. Identifique as transformações promissoras que você pode querer aplicar"
      ],
      "metadata": {
        "id": "rg7HYXh_TWIg"
      }
    },
    {
      "cell_type": "markdown",
      "source": [],
      "metadata": {
        "id": "k0VoLJi-TjOk"
      }
    },
    {
      "cell_type": "markdown",
      "source": [
        "## 9. Identifique dados extras que seriam uteis"
      ],
      "metadata": {
        "id": "tETB7CwaTjs7"
      }
    },
    {
      "cell_type": "markdown",
      "source": [],
      "metadata": {
        "id": "Q3Sf6TZBTr_z"
      }
    },
    {
      "cell_type": "markdown",
      "source": [
        "## 10. Documente o que você aprendeu"
      ],
      "metadata": {
        "id": "L64R9fisTsVK"
      }
    },
    {
      "cell_type": "markdown",
      "source": [],
      "metadata": {
        "id": "4NabTtpMTv4r"
      }
    },
    {
      "cell_type": "markdown",
      "source": [
        "# Checklist 4: Prepare os dados"
      ],
      "metadata": {
        "id": "XchvOce1RppX"
      }
    },
    {
      "cell_type": "markdown",
      "source": [
        "## Funções que serão utilizadas para tratamento dos dados"
      ],
      "metadata": {
        "id": "1vUZ2NYEUEHC"
      }
    },
    {
      "cell_type": "markdown",
      "source": [
        "### Retirar músicas duplicadas"
      ],
      "metadata": {
        "id": "TIHjtQGtUcsj"
      }
    },
    {
      "cell_type": "code",
      "source": [
        "def removeDuplicates(df):\n",
        "    # Adiciona uma coluna auxiliar com o nome da música em lowercase\n",
        "    df['track_name_lower'] = df['track_name'].str.lower()\n",
        "    # Remove duplicadas usando a coluna auxiliar\n",
        "    df_unique = df.drop_duplicates(subset=['track_artist', 'track_name_lower'])\n",
        "    # Remove a coluna auxiliar antes de retornar\n",
        "    df_unique = df_unique.drop(columns=['track_name_lower'])\n",
        "    df = df_unique"
      ],
      "metadata": {
        "id": "NxoovjC0Um8l"
      },
      "execution_count": 2,
      "outputs": []
    },
    {
      "cell_type": "markdown",
      "source": [
        "### OneHot para os artistas mais relevantes do dataset"
      ],
      "metadata": {
        "id": "TQqi20pYUqnX"
      }
    },
    {
      "cell_type": "code",
      "source": [
        "#Já que o dataset possue uma quantidade consideravel de artistas, faz o Onehot apenas\n",
        "#dos artistas mais populares\n",
        "def onehotTopArtists(df, n, alpha=5):\n",
        "    # Verifica se as colunas necessárias existem no DataFrame\n",
        "    if 'track_artist' not in df.columns or 'track_popularity' not in df.columns:\n",
        "        raise ValueError(\"O dataset deve conter as colunas 'track_artist' e 'track_popularity'.\")\n",
        "    # Calcula a popularidade total por artista\n",
        "    artist_total_popularity = df.groupby('track_artist')['track_popularity'].sum()\n",
        "    # Conta o número de músicas por artista\n",
        "    artist_song_count = df.groupby('track_artist').size()\n",
        "    # Ajuste da popularidade considerando o número de músicas com o parâmetro de suavização alpha\n",
        "    artist_adjusted_popularity = artist_total_popularity / (artist_song_count + alpha)\n",
        "    # Seleciona os `n` artistas mais populares com a popularidade ajustada\n",
        "    top_artists = artist_adjusted_popularity.sort_values(ascending=False).head(n).index.tolist()\n",
        "    print(\"Top artistas:\", top_artists)  # Verifique os artistas mais populares\n",
        "    # Cria colunas one-hot para esses `n` artistas mais populares\n",
        "    for artist in top_artists:\n",
        "        df[f\"artist_{artist}\"] = (df['track_artist'] == artist).astype(int)"
      ],
      "metadata": {
        "id": "GwaSwj-HUvN0"
      },
      "execution_count": null,
      "outputs": []
    },
    {
      "cell_type": "markdown",
      "source": [
        "### Remoção de colunas desnecessarias para a predição do modelo"
      ],
      "metadata": {
        "id": "0zORKcrYUzlu"
      }
    },
    {
      "cell_type": "code",
      "source": [
        "#Remove uma lista de colunas de um dataset\n",
        "def removeColumns(df, columns_name):\n",
        "    df.drop(columns=columns_name)"
      ],
      "metadata": {
        "id": "_qlD9FowU6U9"
      },
      "execution_count": null,
      "outputs": []
    },
    {
      "cell_type": "markdown",
      "source": [
        "### Remoção de linhas que possuem algum dado em branco e que não pode ser obtido atraves de outros dados"
      ],
      "metadata": {
        "id": "xGbGP3jdU9qd"
      }
    },
    {
      "cell_type": "code",
      "source": [
        "#Remove linhas que possuam alguma informação relevante em branco\n",
        "#Utilize depois de remover as colunas que não seram necessarias para a predição do modelo\n",
        "def removeRowNaN(songs_cp):\n",
        "    songs_cp_sem_nulos = songs_cp.dropna(axis=0, how='any')\n",
        "    return songs_cp_sem_nulos\n",
        "\n",
        "def dropRowsEmpty(songs_cp):\n",
        "    songs_cp_sem_nulos = removeRowNaN(songs_cp)\n",
        "    valores_nulos_por_coluna = songs_cp_sem_nulos.isna().sum()\n",
        "    print(\"\\nQuantidade de valores nulos por coluna:\")\n",
        "    songs_cp = songs_cp_sem_nulos\n",
        "    print(valores_nulos_por_coluna)\n"
      ],
      "metadata": {
        "id": "5lhbmHdPVFxx"
      },
      "execution_count": null,
      "outputs": []
    },
    {
      "cell_type": "markdown",
      "source": [
        "### Normalizar os dados numericos"
      ],
      "metadata": {
        "id": "8hSQeCogVJJd"
      }
    },
    {
      "cell_type": "code",
      "source": [
        "#normaliza os dados em um intervalo de 0 a 1\n",
        "def normalizeColumns(df,columns_name):\n",
        "    scaler = MinMaxScaler()\n",
        "    df[columns_name] = scaler.fit_transform(df[columns_name])\n",
        "    return df"
      ],
      "metadata": {
        "id": "x3KolP7JVTfF"
      },
      "execution_count": null,
      "outputs": []
    },
    {
      "cell_type": "markdown",
      "source": [
        "### Realizar Onehot para as variaveis categoricas que possuem um numero pequeno de categorias"
      ],
      "metadata": {
        "id": "iQoWyjoAVYbl"
      }
    },
    {
      "cell_type": "code",
      "source": [
        "#faz Onehot para variaveis categoricas com um numero pequeno de categorias\n",
        "def onehotEncode(df, columns):\n",
        "    return pd.get_dummies(df, columns=columns, prefix=columns)"
      ],
      "metadata": {
        "id": "VhGYxTFLVenF"
      },
      "execution_count": null,
      "outputs": []
    },
    {
      "cell_type": "markdown",
      "source": [
        "### Preencheer o mês das musicas que estão com o mês em branco"
      ],
      "metadata": {
        "id": "86741J48ViKF"
      }
    },
    {
      "cell_type": "code",
      "source": [
        "def fillMonths(songs: pd.DataFrame) -> None:\n",
        "    # Filtrar as linhas onde a data de lançamento tem apenas o ano (4 caracteres)\n",
        "    df_ano_apenas = songs[songs['track_album_release_date'].str.len() == 4].copy()\n",
        "\n",
        "    # Filtrar as linhas onde a data de lançamento tem o formato completo (ano-mês-dia)\n",
        "    df_completo = songs[songs['track_album_release_date'].str.len() == 10].copy()\n",
        "\n",
        "    # Extrair o mês das músicas com ano-mês-dia\n",
        "    df_completo['month'] = df_completo['track_album_release_date'].str[5:7]\n",
        "\n",
        "    # Contar a frequência de cada mês\n",
        "    month_counts = df_completo['month'].value_counts()\n",
        "\n",
        "    # Agora vamos preencher os meses nas músicas com ano apenas, de forma proporcional\n",
        "    # Criação de uma lista que vai armazenar os meses a serem atribuídos\n",
        "    months_to_fill = []\n",
        "\n",
        "    # Para cada mês na distribuição, vamos adicionar o mês de forma proporcional\n",
        "    for month, count in month_counts.items():\n",
        "        months_to_fill.extend([month] * count)\n",
        "\n",
        "    # Para as músicas faltando mês, vamos preencher com base na lista 'months_to_fill'\n",
        "    df_ano_apenas['month'] = np.random.choice(months_to_fill, size=len(df_ano_apenas))\n",
        "\n",
        "    # Agora vamos juntar os dois DataFrames (completo e preenchido) novamente\n",
        "    # Garantindo que estamos mantendo todas as colunas, não apenas 'track_album_release_date'\n",
        "    df_completo['month'] = df_completo['month']  # As músicas já completas não devem ser modificadas\n",
        "    df_ano_apenas['track_album_release_date'] = df_ano_apenas['track_album_release_date'] + '-' + df_ano_apenas['month'] + '-01'\n",
        "\n",
        "    # Substituir as linhas no DataFrame original\n",
        "    songs.update(df_completo)  # Atualiza as músicas completas\n",
        "    songs.update(df_ano_apenas)  # Atualiza as músicas com ano apenas"
      ],
      "metadata": {
        "id": "ilIBsMNgVzkp"
      },
      "execution_count": null,
      "outputs": []
    },
    {
      "cell_type": "markdown",
      "source": [
        "### Retorna o dataframe com a decomposição da 'track_album_release_date' em 'track_year' e 'track_month'"
      ],
      "metadata": {
        "id": "idYhlEfOV01X"
      }
    },
    {
      "cell_type": "code",
      "source": [
        "def decompositionDateTransform(df, date_column):\n",
        "    # Como o ano é composto de 4 dígitos, iremos extrair os 4 primeiros caracteres da coluna\n",
        "    def get_year(date):\n",
        "        if isinstance(date, str) and len(date) >= 4 and date[:4].isdigit():\n",
        "            return int(date[:4])\n",
        "        return None\n",
        "\n",
        "    # Depois dos 4 caracteres teremos um '-' que faz a divisão do ano e mês, iremos fazer\n",
        "    # split e pegaremos os dois próximos dígitos\n",
        "    def get_month(date):\n",
        "        if isinstance(date, str) and len(date) >= 7:\n",
        "            parts = date.split('-')\n",
        "            if len(parts) > 1 and parts[1].isdigit():\n",
        "                return f\"{int(parts[1]):02d}\"  # Garantir dois dígitos no mês\n",
        "        return None\n",
        "\n",
        "    # Agora adicionamos as novas colunas\n",
        "    df['track_year'] = df[date_column].apply(get_year)\n",
        "    df['track_month'] = df[date_column].apply(get_month)\n",
        "\n",
        "    return df"
      ],
      "metadata": {
        "id": "IME6au2TV-yL"
      },
      "execution_count": null,
      "outputs": []
    },
    {
      "cell_type": "markdown",
      "source": [
        "### Retorna o dataframe com a decomposição da 'duration_ms' em 'track_minutes' e 'track_seconds'"
      ],
      "metadata": {
        "id": "NFX5GZtUi-sI"
      }
    },
    {
      "cell_type": "code",
      "source": [
        "def MilisecondsTransform(df, millis_column):\n",
        "    def get_minutes(millis):\n",
        "        if isinstance(millis, (int, float)) and millis >= 0:\n",
        "            return millis // 60000\n",
        "        return None\n",
        "\n",
        "    def get_seconds(millis):\n",
        "        if isinstance(millis, (int, float)) and millis >= 0:\n",
        "            return (millis % 60000) // 1000\n",
        "        return None\n",
        "\n",
        "    df['track_minutes'] = df[millis_column].apply(get_minutes)\n",
        "    df['track_seconds'] = df[millis_column].apply(get_seconds)"
      ],
      "metadata": {
        "id": "TV89L8g5jAQ9"
      },
      "execution_count": null,
      "outputs": []
    },
    {
      "cell_type": "markdown",
      "source": [
        "### Retorna o dataframe com a classificação da 'duration_ms' em 0,1,2,3,4,5 e 6, na coluna 'track_duration_classification'"
      ],
      "metadata": {
        "id": "TFUbm00qWIem"
      }
    },
    {
      "cell_type": "code",
      "source": [
        "def classifyDuration(df, millis_column):\n",
        "    def classify(millis):\n",
        "        if isinstance(millis, (int, float)) and millis >= 0:\n",
        "            duration_minutes = millis / 60000\n",
        "            if duration_minutes == 0:\n",
        "                return 0\n",
        "            elif duration_minutes <= 1:\n",
        "                return 1\n",
        "            elif duration_minutes <= 2:\n",
        "                return 2\n",
        "            elif duration_minutes <= 3:\n",
        "                return 3\n",
        "            elif duration_minutes <= 4:\n",
        "                return 4\n",
        "            elif duration_minutes <= 5:\n",
        "                return 5\n",
        "            else:\n",
        "                return 6\n",
        "        return None\n",
        "\n",
        "    df['track_duration_classification'] = df[millis_column].apply(classify)"
      ],
      "metadata": {
        "id": "crPoXWpnWPJQ"
      },
      "execution_count": null,
      "outputs": []
    },
    {
      "cell_type": "markdown",
      "source": [
        "### Retorna os dados discretizados e possiveis Outliers\n"
      ],
      "metadata": {
        "id": "PtxGbBO2WTuI"
      }
    },
    {
      "cell_type": "code",
      "source": [
        "def discretizeAndPossibleOutliers(data, n_bins=10, metodo='quantis'):\n",
        "    if metodo == 'quantis':\n",
        "        # Discretização baseada em quantis (divide os dados em n_bins intervalos com número igual de dados)\n",
        "        bins = np.percentile(data, np.linspace(0, 100, n_bins+1))\n",
        "        labels = [f'Intervalo {i+1}' for i in range(n_bins)]\n",
        "        data_discretizada = pd.cut(data, bins=bins, labels=labels, include_lowest=True)\n",
        "    elif metodo == 'igual':\n",
        "        # Discretização por intervalos iguais (divide os dados em n_bins intervalos de tamanho igual)\n",
        "        bins = np.linspace(data.min(), data.max(), n_bins+1)\n",
        "        labels = [f'Intervalo {i+1}' for i in range(n_bins)]\n",
        "        data_discretizada = pd.cut(data, bins=bins, labels=labels, include_lowest=True)\n",
        "    else:\n",
        "        raise ValueError(\"ERROR: 'quantis' ou 'igual'.\")\n",
        "\n",
        "    # Visualizar os dados discretizados\n",
        "    sns.histplot(data_discretizada, kde=False, discrete=True, color='skyblue')\n",
        "    plt.title('Distribuição dos Dados Discretizados')\n",
        "    plt.xlabel('I')\n",
        "    plt.ylabel('C')\n",
        "    plt.show()\n",
        "\n",
        "    # Identificar outliers (valores fora de 1.5 vezes o intervalo interquartil)\n",
        "    Q1 = np.percentile(data, 25)\n",
        "    Q3 = np.percentile(data, 75)\n",
        "    IQR = Q3 - Q1\n",
        "    outliers = data[(data < (Q1 - 1.5 * IQR)) | (data > (Q3 + 1.5 * IQR))]\n",
        "\n",
        "    return data_discretizada, outliers"
      ],
      "metadata": {
        "id": "5dwk-vyCWcZ-"
      },
      "execution_count": null,
      "outputs": []
    },
    {
      "cell_type": "markdown",
      "source": [
        "###"
      ],
      "metadata": {
        "id": "E53Cx4yeWgu2"
      }
    },
    {
      "cell_type": "markdown",
      "source": [
        "## Funções de apoio"
      ],
      "metadata": {
        "id": "iKlbkionURRU"
      }
    },
    {
      "cell_type": "markdown",
      "source": [
        "### Mostrar nível de popularidade por gênero"
      ],
      "metadata": {
        "id": "rK7tFB9yX-Ha"
      }
    },
    {
      "cell_type": "code",
      "source": [
        "def popularityPerGenre(songs):\n",
        "    # Agrupar por 'playlist_genre' e calcular a média da popularidade\n",
        "    genre_popularity = songs.groupby(\"playlist_genre\")[\"track_popularity\"].mean()\n",
        "    # Ordenar os resultados em ordem decrescente\n",
        "    genre_popularity_sorted = genre_popularity.sort_values(ascending=False)\n",
        "    # Exibir os gêneros com músicas mais populares\n",
        "    print(genre_popularity_sorted)"
      ],
      "metadata": {
        "id": "fxTBAycLYB9E"
      },
      "execution_count": null,
      "outputs": []
    },
    {
      "cell_type": "markdown",
      "source": [
        "### Retorna todos os artistas e suas respectivas popularidades"
      ],
      "metadata": {
        "id": "NIJNrY5CYJPt"
      }
    },
    {
      "cell_type": "code",
      "source": [
        "#retorna todos os artistas e suas respectivas popularidade\n",
        "def getArtistsAndPopularity(df, alpha=5):\n",
        "    # Verifica se as colunas necessárias existem no DataFrame\n",
        "    if 'track_artist' not in df.columns or 'track_popularity' not in df.columns:\n",
        "        raise ValueError(\"O dataset deve conter as colunas 'track_artist' e 'track_popularity'.\")\n",
        "    # Calcula a popularidade total por artista\n",
        "    artist_total_popularity = df.groupby('track_artist')['track_popularity'].sum()\n",
        "    # Conta o número de músicas por artista\n",
        "    artist_song_count = df.groupby('track_artist').size()\n",
        "    # Calcula a popularidade ponderada para cada artista\n",
        "    artist_weighted_popularity = artist_total_popularity / (artist_song_count + alpha)\n",
        "    # Ordena os artistas pela popularidade ponderada em ordem decrescente\n",
        "    artist_weighted_popularity_sorted = artist_weighted_popularity.sort_values(ascending=False)\n",
        "    # Retorna o DataFrame com o nome do artista e sua popularidade\n",
        "    return artist_weighted_popularity_sorted.reset_index()"
      ],
      "metadata": {
        "id": "jxGHs5dJYZAw"
      },
      "execution_count": null,
      "outputs": []
    },
    {
      "cell_type": "markdown",
      "source": [
        "### Retorna as n musicas mais populares do dataset"
      ],
      "metadata": {
        "id": "3q6ZPRoXYe8B"
      }
    },
    {
      "cell_type": "code",
      "source": [
        "#retorna as n musicas mais populares do dataset\n",
        "def getTopSongs(df,n):\n",
        "  return df[['track_name', 'track_popularity']].sort_values(by='track_popularity', ascending=False).head(n)"
      ],
      "metadata": {
        "id": "lOQy0V_kYn_Q"
      },
      "execution_count": null,
      "outputs": []
    },
    {
      "cell_type": "markdown",
      "source": [
        "###"
      ],
      "metadata": {
        "id": "_64KYa36Yr2w"
      }
    },
    {
      "cell_type": "markdown",
      "metadata": {
        "id": "jF9DTIudNR-e"
      },
      "source": [
        "### Mostrar nível de popularidade por gênero"
      ]
    },
    {
      "cell_type": "code",
      "execution_count": null,
      "metadata": {
        "id": "aHNPmzstNR-e"
      },
      "outputs": [],
      "source": [
        "def popularityPerGenre(songs):\n",
        "    # Agrupar por 'playlist_genre' e calcular a média da popularidade\n",
        "    genre_popularity = songs.groupby(\"playlist_genre\")[\"track_popularity\"].mean()\n",
        "    # Ordenar os resultados em ordem decrescente\n",
        "    genre_popularity_sorted = genre_popularity.sort_values(ascending=False)\n",
        "    # Exibir os gêneros com músicas mais populares\n",
        "    print(genre_popularity_sorted)\n"
      ]
    },
    {
      "cell_type": "markdown",
      "source": [
        "## 1. Limpeza de dados"
      ],
      "metadata": {
        "id": "BVyOjl0ATI96"
      }
    },
    {
      "cell_type": "code",
      "source": [
        "## removendo dados duplicados\n",
        "removeDuplicates(songs_cp)"
      ],
      "metadata": {
        "id": "fBPokRV0dBst"
      },
      "execution_count": null,
      "outputs": []
    },
    {
      "cell_type": "code",
      "source": [
        "## removendo linhas que possuem dados em branco e que não podem ser obtidos de forma\n",
        "## ideal\n",
        "dropRowsEmpty(songs_cp)"
      ],
      "metadata": {
        "id": "MTI1v3C_e8e2"
      },
      "execution_count": null,
      "outputs": []
    },
    {
      "cell_type": "code",
      "source": [
        "## preenchendo o mês das musicas que não possuem\n",
        "fillMonths(songs_cp)"
      ],
      "metadata": {
        "id": "QUBjdMRBfA1Q"
      },
      "execution_count": null,
      "outputs": []
    },
    {
      "cell_type": "markdown",
      "source": [
        "## 2. Seleção de Caracteristicas"
      ],
      "metadata": {
        "id": "EGThxn5cgMdp"
      }
    },
    {
      "cell_type": "code",
      "source": [
        "## dropando as colunas que representam id\n",
        "removeColumns(songs_cp,['track_id','track_album_id','playlist_id'])"
      ],
      "metadata": {
        "id": "OKbSJk3ogRvB"
      },
      "execution_count": null,
      "outputs": []
    },
    {
      "cell_type": "code",
      "source": [
        "## dropando colunas de nomes que não irão agregar na predição do modelo\n",
        "removeColumns(songs_cp,['track_name','track_album_name','playlist_name'])"
      ],
      "metadata": {
        "id": "K6s5fnMig5Ku"
      },
      "execution_count": null,
      "outputs": []
    },
    {
      "cell_type": "markdown",
      "source": [
        "## 3. Feature engineering"
      ],
      "metadata": {
        "id": "a1Ap63nEhXGA"
      }
    },
    {
      "cell_type": "code",
      "source": [
        "## Decompondo a coluna 'track_album_release_date' em 'track_year' e 'track_month'\n",
        "decompositionDateTransform(songs_cp,'track_album_release_date')"
      ],
      "metadata": {
        "id": "nodsNVQBhl90"
      },
      "execution_count": null,
      "outputs": []
    },
    {
      "cell_type": "code",
      "source": [
        "## transformando a coluna 'duration_ms' em 'track_minutes' e 'track_seconds'\n",
        "MilisecondsTransform(songs_cp,'duration_ms')"
      ],
      "metadata": {
        "id": "PCAolEFMh-Ii"
      },
      "execution_count": null,
      "outputs": []
    },
    {
      "cell_type": "code",
      "source": [
        "## Categorizando as musicas por 'duration_ms' e cria a coluna 'track_duration_classification':\n",
        "## 0 - musicas com tempo zerado\n",
        "## 1- musicas > 0 and <= 1\n",
        "## 2- musicas > 1 and <= 2\n",
        "## 3- musicas > 2 and <= 3\n",
        "## 4- musicas > 3 and <= 4\n",
        "## 5- musicas > 4 and <= 5\n",
        "## 6- musicas > 5\n",
        "classifyDuration(songs_cp,'duration_ms')"
      ],
      "metadata": {
        "id": "0D4uYN54jSD0"
      },
      "execution_count": null,
      "outputs": []
    },
    {
      "cell_type": "code",
      "source": [
        "## realiza oneHot para os 10 artistas mais populares do dataset\n",
        "onehotTopArtists(songs_cp,10)"
      ],
      "metadata": {
        "id": "q4GGecgakZJL"
      },
      "execution_count": null,
      "outputs": []
    },
    {
      "cell_type": "markdown",
      "source": [
        "## 3. Escalonamento de caracteristicas"
      ],
      "metadata": {
        "id": "jpTU_HGFl_mU"
      }
    },
    {
      "cell_type": "code",
      "source": [
        "## para todas as variaveis categoricas e numericas iremos colocar todas na mesma escala,\n",
        "## para que o modelo consiga convergir de forma mais rapida\n",
        "normalizeColumns(songs_cp,['track_popularity','danceability','energy','key','loudness','mode','speechiness','acousticness'])\n",
        "normalizeColumns(songs_cp,['instrumentalness','liveness','valence','tempo','track_minutes','track_seconds','track_year','track_month'])"
      ],
      "metadata": {
        "id": "jvOc91C2lKzV"
      },
      "execution_count": null,
      "outputs": []
    },
    {
      "cell_type": "markdown",
      "source": [],
      "metadata": {
        "id": "eXMPbPYOhlOZ"
      }
    },
    {
      "cell_type": "markdown",
      "source": [],
      "metadata": {
        "id": "xKEKIpK3TLYx"
      }
    },
    {
      "cell_type": "markdown",
      "source": [],
      "metadata": {
        "id": "B2u1whTPblZ9"
      }
    },
    {
      "cell_type": "markdown",
      "source": [],
      "metadata": {
        "id": "-swzMsRqbo5w"
      }
    }
  ],
  "metadata": {
    "kernelspec": {
      "display_name": "venv",
      "language": "python",
      "name": "python3"
    },
    "language_info": {
      "codemirror_mode": {
        "name": "ipython",
        "version": 3
      },
      "file_extension": ".py",
      "mimetype": "text/x-python",
      "name": "python",
      "nbconvert_exporter": "python",
      "pygments_lexer": "ipython3",
      "version": "3.10.12"
    },
    "colab": {
      "provenance": [],
      "include_colab_link": true
    }
  },
  "nbformat": 4,
  "nbformat_minor": 0
}