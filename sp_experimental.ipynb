{
  "cells": [
    {
      "cell_type": "markdown",
      "metadata": {
        "id": "view-in-github",
        "colab_type": "text"
      },
      "source": [
        "<a href=\"https://colab.research.google.com/github/Lrs-mtos/song-popularity-ML/blob/develop_adrian/sp_experimental.ipynb\" target=\"_parent\"><img src=\"https://colab.research.google.com/assets/colab-badge.svg\" alt=\"Open In Colab\"/></a>"
      ]
    },
    {
      "cell_type": "markdown",
      "source": [
        "# **1 - OBTENDO OS DADOS**"
      ],
      "metadata": {
        "id": "hFKWoFgIhPo4"
      }
    },
    {
      "cell_type": "markdown",
      "metadata": {
        "id": "1HwqR_fKNR-X"
      },
      "source": [
        "## 1.1 - Configuração\n"
      ]
    },
    {
      "cell_type": "code",
      "execution_count": 97,
      "metadata": {
        "id": "_xeiDQ8LNR-Z"
      },
      "outputs": [],
      "source": [
        "# Python ≥3.5 is required\n",
        "import sys\n",
        "assert sys.version_info >= (3, 5)\n",
        "\n",
        "# Scikit-Learn ≥0.20 is required\n",
        "import sklearn\n",
        "assert sklearn.__version__ >= \"0.20\"\n",
        "\n",
        "\n",
        "# Common imports\n",
        "import numpy as np\n",
        "import pandas as pd\n",
        "import seaborn as sns\n",
        "from pandas.plotting import scatter_matrix\n",
        "from sklearn.preprocessing import MinMaxScaler\n",
        "from sklearn.model_selection import train_test_split\n",
        "from sklearn.ensemble import RandomForestRegressor\n",
        "from sklearn.metrics import mean_absolute_error, mean_squared_error, r2_score\n",
        "import os\n",
        "\n",
        "# To plot pretty figures\n",
        "%matplotlib inline\n",
        "import matplotlib as mpl\n",
        "import matplotlib.pyplot as plt\n",
        "mpl.rc('axes', labelsize=14)\n",
        "mpl.rc('xtick', labelsize=12)\n",
        "mpl.rc('ytick', labelsize=12)\n"
      ]
    },
    {
      "cell_type": "markdown",
      "metadata": {
        "id": "DCrp0Z7XNR-b"
      },
      "source": [
        "## 1.2 - Obtendo os dados"
      ]
    },
    {
      "cell_type": "code",
      "execution_count": 68,
      "metadata": {
        "id": "_pvFLC_lNR-b"
      },
      "outputs": [],
      "source": [
        "import os\n",
        "import requests\n",
        "import zipfile\n",
        "import pandas as pd\n",
        "\n",
        "\n",
        "url = \"https://www.kaggle.com/api/v1/datasets/download/joebeachcapital/30000-spotify-songs\"\n",
        "zip_path = \"spotify_songs.zip\"\n",
        "extract_path = \"./datasets\"\n",
        "#create dataframe songs:\n",
        "\n",
        "\n",
        "# Faz o download do arquivo zip\n",
        "response = requests.get(url)\n",
        "with open(zip_path, \"wb\") as file:\n",
        "    file.write(response.content)\n",
        "os.makedirs(extract_path, exist_ok=True)\n",
        "\n",
        "with zipfile.ZipFile(zip_path, \"r\") as zip_ref:\n",
        "    zip_ref.extractall(extract_path)"
      ]
    },
    {
      "cell_type": "markdown",
      "metadata": {
        "id": "kdPTvYXBNR-c"
      },
      "source": [
        "## 1.3 - Conferindo rapidamente o dataset"
      ]
    },
    {
      "cell_type": "code",
      "execution_count": 69,
      "metadata": {
        "colab": {
          "base_uri": "https://localhost:8080/"
        },
        "id": "VA03ct1nNR-c",
        "outputId": "b9ca51db-6eb0-4132-f899-2bf6e5ac8962"
      },
      "outputs": [
        {
          "output_type": "stream",
          "name": "stdout",
          "text": [
            "                 track_id                                         track_name  \\\n",
            "0  6f807x0ima9a1j3VPbc7VN  I Don't Care (with Justin Bieber) - Loud Luxur...   \n",
            "1  0r7CVbZTWZgbTCYdfa2P31                    Memories - Dillon Francis Remix   \n",
            "2  1z1Hg7Vb0AhHDiEmnDE79l                    All the Time - Don Diablo Remix   \n",
            "3  75FpbthrwQmzHlBJLuGdC7                  Call You Mine - Keanu Silva Remix   \n",
            "4  1e8PAfcKUYoKkxPhrHqw4x            Someone You Loved - Future Humans Remix   \n",
            "\n",
            "       track_artist  track_popularity          track_album_id  \\\n",
            "0        Ed Sheeran                66  2oCs0DGTsRO98Gh5ZSl2Cx   \n",
            "1          Maroon 5                67  63rPSO264uRjW1X5E6cWv6   \n",
            "2      Zara Larsson                70  1HoSmj2eLcsrR0vE9gThr4   \n",
            "3  The Chainsmokers                60  1nqYsOef1yKKuGOVchbsk6   \n",
            "4     Lewis Capaldi                69  7m7vv9wlQ4i0LFuJiE2zsQ   \n",
            "\n",
            "                                    track_album_name track_album_release_date  \\\n",
            "0  I Don't Care (with Justin Bieber) [Loud Luxury...               2019-06-14   \n",
            "1                    Memories (Dillon Francis Remix)               2019-12-13   \n",
            "2                    All the Time (Don Diablo Remix)               2019-07-05   \n",
            "3                        Call You Mine - The Remixes               2019-07-19   \n",
            "4            Someone You Loved (Future Humans Remix)               2019-03-05   \n",
            "\n",
            "  playlist_name             playlist_id playlist_genre  ... key  loudness  \\\n",
            "0     Pop Remix  37i9dQZF1DXcZDD7cfEKhW            pop  ...   6    -2.634   \n",
            "1     Pop Remix  37i9dQZF1DXcZDD7cfEKhW            pop  ...  11    -4.969   \n",
            "2     Pop Remix  37i9dQZF1DXcZDD7cfEKhW            pop  ...   1    -3.432   \n",
            "3     Pop Remix  37i9dQZF1DXcZDD7cfEKhW            pop  ...   7    -3.778   \n",
            "4     Pop Remix  37i9dQZF1DXcZDD7cfEKhW            pop  ...   1    -4.672   \n",
            "\n",
            "   mode  speechiness  acousticness  instrumentalness  liveness  valence  \\\n",
            "0     1       0.0583        0.1020          0.000000    0.0653    0.518   \n",
            "1     1       0.0373        0.0724          0.004210    0.3570    0.693   \n",
            "2     0       0.0742        0.0794          0.000023    0.1100    0.613   \n",
            "3     1       0.1020        0.0287          0.000009    0.2040    0.277   \n",
            "4     1       0.0359        0.0803          0.000000    0.0833    0.725   \n",
            "\n",
            "     tempo  duration_ms  \n",
            "0  122.036       194754  \n",
            "1   99.972       162600  \n",
            "2  124.008       176616  \n",
            "3  121.956       169093  \n",
            "4  123.976       189052  \n",
            "\n",
            "[5 rows x 23 columns]\n"
          ]
        }
      ],
      "source": [
        "csv_path = os.path.join(extract_path, \"spotify_songs.csv\")\n",
        "songs = pd.read_csv(csv_path)\n",
        "print(songs.head())"
      ]
    },
    {
      "cell_type": "code",
      "execution_count": 70,
      "metadata": {
        "colab": {
          "base_uri": "https://localhost:8080/"
        },
        "id": "6pJrVOhcNR-e",
        "outputId": "0c39ea91-63a7-4b92-9eec-89cd8b4177da"
      },
      "outputs": [
        {
          "output_type": "stream",
          "name": "stdout",
          "text": [
            "<class 'pandas.core.frame.DataFrame'>\n",
            "RangeIndex: 32833 entries, 0 to 32832\n",
            "Data columns (total 23 columns):\n",
            " #   Column                    Non-Null Count  Dtype  \n",
            "---  ------                    --------------  -----  \n",
            " 0   track_id                  32833 non-null  object \n",
            " 1   track_name                32828 non-null  object \n",
            " 2   track_artist              32828 non-null  object \n",
            " 3   track_popularity          32833 non-null  int64  \n",
            " 4   track_album_id            32833 non-null  object \n",
            " 5   track_album_name          32828 non-null  object \n",
            " 6   track_album_release_date  32833 non-null  object \n",
            " 7   playlist_name             32833 non-null  object \n",
            " 8   playlist_id               32833 non-null  object \n",
            " 9   playlist_genre            32833 non-null  object \n",
            " 10  playlist_subgenre         32833 non-null  object \n",
            " 11  danceability              32833 non-null  float64\n",
            " 12  energy                    32833 non-null  float64\n",
            " 13  key                       32833 non-null  int64  \n",
            " 14  loudness                  32833 non-null  float64\n",
            " 15  mode                      32833 non-null  int64  \n",
            " 16  speechiness               32833 non-null  float64\n",
            " 17  acousticness              32833 non-null  float64\n",
            " 18  instrumentalness          32833 non-null  float64\n",
            " 19  liveness                  32833 non-null  float64\n",
            " 20  valence                   32833 non-null  float64\n",
            " 21  tempo                     32833 non-null  float64\n",
            " 22  duration_ms               32833 non-null  int64  \n",
            "dtypes: float64(9), int64(4), object(10)\n",
            "memory usage: 5.8+ MB\n"
          ]
        }
      ],
      "source": [
        "songs.info()"
      ]
    },
    {
      "cell_type": "code",
      "execution_count": 71,
      "metadata": {
        "colab": {
          "base_uri": "https://localhost:8080/",
          "height": 304
        },
        "id": "rUSp9uelNR-e",
        "outputId": "d99d4df0-16a9-4b90-c39f-920c128385f7"
      },
      "outputs": [
        {
          "output_type": "execute_result",
          "data": {
            "text/plain": [
              "playlist_genre\n",
              "edm      6043\n",
              "rap      5746\n",
              "pop      5507\n",
              "r&b      5431\n",
              "latin    5155\n",
              "rock     4951\n",
              "Name: count, dtype: int64"
            ],
            "text/html": [
              "<div>\n",
              "<style scoped>\n",
              "    .dataframe tbody tr th:only-of-type {\n",
              "        vertical-align: middle;\n",
              "    }\n",
              "\n",
              "    .dataframe tbody tr th {\n",
              "        vertical-align: top;\n",
              "    }\n",
              "\n",
              "    .dataframe thead th {\n",
              "        text-align: right;\n",
              "    }\n",
              "</style>\n",
              "<table border=\"1\" class=\"dataframe\">\n",
              "  <thead>\n",
              "    <tr style=\"text-align: right;\">\n",
              "      <th></th>\n",
              "      <th>count</th>\n",
              "    </tr>\n",
              "    <tr>\n",
              "      <th>playlist_genre</th>\n",
              "      <th></th>\n",
              "    </tr>\n",
              "  </thead>\n",
              "  <tbody>\n",
              "    <tr>\n",
              "      <th>edm</th>\n",
              "      <td>6043</td>\n",
              "    </tr>\n",
              "    <tr>\n",
              "      <th>rap</th>\n",
              "      <td>5746</td>\n",
              "    </tr>\n",
              "    <tr>\n",
              "      <th>pop</th>\n",
              "      <td>5507</td>\n",
              "    </tr>\n",
              "    <tr>\n",
              "      <th>r&amp;b</th>\n",
              "      <td>5431</td>\n",
              "    </tr>\n",
              "    <tr>\n",
              "      <th>latin</th>\n",
              "      <td>5155</td>\n",
              "    </tr>\n",
              "    <tr>\n",
              "      <th>rock</th>\n",
              "      <td>4951</td>\n",
              "    </tr>\n",
              "  </tbody>\n",
              "</table>\n",
              "</div><br><label><b>dtype:</b> int64</label>"
            ]
          },
          "metadata": {},
          "execution_count": 71
        }
      ],
      "source": [
        "pd.set_option('display.max_rows', None)\n",
        "songs[\"playlist_genre\"].value_counts()"
      ]
    },
    {
      "cell_type": "markdown",
      "metadata": {
        "id": "fqDKSjEWb_6g"
      },
      "source": [
        "## 1.4 - Criando conjunto de teste\n",
        "\n"
      ]
    },
    {
      "cell_type": "code",
      "execution_count": 72,
      "metadata": {
        "colab": {
          "base_uri": "https://localhost:8080/"
        },
        "id": "IIWo55wDcKnH",
        "outputId": "d75e3e87-1c41-443c-cb40-01a2bebe3e01"
      },
      "outputs": [
        {
          "output_type": "execute_result",
          "data": {
            "text/plain": [
              "26266"
            ]
          },
          "metadata": {},
          "execution_count": 72
        }
      ],
      "source": [
        "#to make this notebook's output identical at every run\n",
        "np.random.seed(42)\n",
        "\n",
        "train_set, test_set = train_test_split(songs, test_size=0.2, random_state=42)\n",
        "len(train_set)"
      ]
    },
    {
      "cell_type": "code",
      "execution_count": 73,
      "metadata": {
        "colab": {
          "base_uri": "https://localhost:8080/"
        },
        "id": "P4jSjsY8cgm2",
        "outputId": "00654a9a-fe6b-4190-b2e4-1299510d0345"
      },
      "outputs": [
        {
          "output_type": "execute_result",
          "data": {
            "text/plain": [
              "6567"
            ]
          },
          "metadata": {},
          "execution_count": 73
        }
      ],
      "source": [
        "len(test_set)"
      ]
    },
    {
      "cell_type": "markdown",
      "metadata": {
        "id": "MkP_rnCqN37-"
      },
      "source": [
        "# **2 - EXPLORANDO OS DADOS**\n"
      ]
    },
    {
      "cell_type": "markdown",
      "metadata": {
        "id": "Tw9XlkqZODQt"
      },
      "source": [
        "## Criando uma cópia dos dados para exploração."
      ]
    },
    {
      "cell_type": "code",
      "execution_count": 74,
      "metadata": {
        "id": "7Gno9kS3OQFv"
      },
      "outputs": [],
      "source": [
        "songs_cp = train_set.copy()"
      ]
    },
    {
      "cell_type": "markdown",
      "metadata": {
        "id": "XchvOce1RppX"
      },
      "source": [
        "# **3 - PREPARANDO OS DADOS**"
      ]
    },
    {
      "cell_type": "markdown",
      "metadata": {
        "id": "1vUZ2NYEUEHC"
      },
      "source": [
        "## 3.1 - Definição das **Funções para tratamento dos dados**."
      ]
    },
    {
      "cell_type": "code",
      "execution_count": 75,
      "metadata": {
        "id": "NxoovjC0Um8l"
      },
      "outputs": [],
      "source": [
        "# REMOÇÃO DE DUPLICATAS - remove músicas repetidas\n",
        "\n",
        "def removeDuplicates(df):\n",
        "    # Adiciona uma coluna auxiliar com o nome da música em lowercase\n",
        "    df['track_name_lower'] = df['track_name'].str.lower()\n",
        "    # Remove duplicadas usando a coluna auxiliar\n",
        "    df_unique = df.drop_duplicates(subset=['track_artist', 'track_name_lower'])\n",
        "    # Remove a coluna auxiliar antes de retornar\n",
        "    df_unique = df_unique.drop(columns=['track_name_lower'])\n",
        "    return df_unique"
      ]
    },
    {
      "cell_type": "code",
      "execution_count": 76,
      "metadata": {
        "id": "GwaSwj-HUvN0"
      },
      "outputs": [],
      "source": [
        "# ONEHOT DE ARTITAS MAIS RELEVANTES - Já que o dataset possue uma quantidade consideravel de artistas, faz o Onehot apenas dos artistas mais populares.\n",
        "\n",
        "def onehotTopArtists(df, n, alpha=5):\n",
        "    # Verifica se as colunas necessárias existem no DataFrame\n",
        "    if 'track_artist' not in df.columns or 'track_popularity' not in df.columns:\n",
        "        raise ValueError(\"O dataset deve conter as colunas 'track_artist' e 'track_popularity'.\")\n",
        "    # Calcula a popularidade total por artista\n",
        "    artist_total_popularity = df.groupby('track_artist')['track_popularity'].sum()\n",
        "    # Conta o número de músicas por artista\n",
        "    artist_song_count = df.groupby('track_artist').size()\n",
        "    # Ajuste da popularidade considerando o número de músicas com o parâmetro de suavização alpha\n",
        "    artist_adjusted_popularity = artist_total_popularity / (artist_song_count + alpha)\n",
        "    # Seleciona os `n` artistas mais populares com a popularidade ajustada\n",
        "    top_artists = artist_adjusted_popularity.sort_values(ascending=False).head(n).index.tolist()\n",
        "    print(\"Top artistas:\", top_artists)  # Verifique os artistas mais populares\n",
        "    # Cria colunas one-hot para esses `n` artistas mais populares\n",
        "    for artist in top_artists:\n",
        "        df[f\"artist_{artist}\"] = (df['track_artist'] == artist).astype(int)\n",
        "    return df"
      ]
    },
    {
      "cell_type": "code",
      "execution_count": 77,
      "metadata": {
        "id": "_qlD9FowU6U9"
      },
      "outputs": [],
      "source": [
        "# REMOÇÃO DE COLUNAS - Remove colunas não úteis para a predição.\n",
        "\n",
        "def removeColumns(df, columns_name):\n",
        "    return df.drop(columns=columns_name)"
      ]
    },
    {
      "cell_type": "code",
      "execution_count": 78,
      "metadata": {
        "id": "5lhbmHdPVFxx"
      },
      "outputs": [],
      "source": [
        "# REMOÇÃO DE LINHAS - Remove linhas que possuem dados em branco e que não podem ser obtidos por meio de outros dados.\n",
        "\n",
        "#Utilizar depois de remover as colunas que não serão necessárias para a predição do modelo.\n",
        "def removeRowNaN(songs_cp):\n",
        "    songs_cp_sem_nulos = songs_cp.dropna(axis=0, how='any')\n",
        "    return songs_cp_sem_nulos\n",
        "\n",
        "def dropRowsEmpty(songs_cp):\n",
        "    songs_cp_sem_nulos = removeRowNaN(songs_cp)\n",
        "    valores_nulos_por_coluna = songs_cp_sem_nulos.isna().sum()\n",
        "    print(\"\\nQuantidade de valores nulos por coluna:\")\n",
        "    songs_cp = songs_cp_sem_nulos\n",
        "    print(valores_nulos_por_coluna)\n",
        "    return songs_cp\n"
      ]
    },
    {
      "cell_type": "code",
      "execution_count": 79,
      "metadata": {
        "id": "x3KolP7JVTfF"
      },
      "outputs": [],
      "source": [
        "# NORMALIZAÇÃO DE DADOS NUMÉRICOS\n",
        "\n",
        "#Normaliza os dados numa escala de 0 a 1.\n",
        "def normalizeColumns(df,columns_name):\n",
        "    scaler = MinMaxScaler()\n",
        "    df[columns_name] = scaler.fit_transform(df[columns_name])\n",
        "    return df"
      ]
    },
    {
      "cell_type": "code",
      "execution_count": 80,
      "metadata": {
        "id": "VhGYxTFLVenF"
      },
      "outputs": [],
      "source": [
        "# ONEHOT para as variáveis categóricas que possuem um número pequeno de categorias.\n",
        "\n",
        "def onehotEncode(df, columns):\n",
        "    pd.get_dummies(df, columns=columns, prefix=columns)"
      ]
    },
    {
      "cell_type": "code",
      "execution_count": 81,
      "metadata": {
        "id": "ilIBsMNgVzkp"
      },
      "outputs": [],
      "source": [
        "# PREENCHE MẼS DE LANÇAMENTO DAS MÚSICAS QUE NÃO POSSUEM ESSE DADO.\n",
        "\n",
        "def fillMonths(songs: pd.DataFrame) -> None:\n",
        "    # Filtrar as linhas onde a data de lançamento tem apenas o ano (4 caracteres)\n",
        "    df_ano_apenas = songs[songs['track_album_release_date'].str.len() == 4].copy()\n",
        "\n",
        "    # Filtrar as linhas onde a data de lançamento tem o formato completo (ano-mês-dia)\n",
        "    df_completo = songs[songs['track_album_release_date'].str.len() == 10].copy()\n",
        "\n",
        "    # Extrair o mês das músicas com ano-mês-dia\n",
        "    df_completo['month'] = df_completo['track_album_release_date'].str[5:7]\n",
        "\n",
        "    # Contar a frequência de cada mês\n",
        "    month_counts = df_completo['month'].value_counts()\n",
        "\n",
        "    # Agora vamos preencher os meses nas músicas com ano apenas, de forma proporcional\n",
        "    # Criação de uma lista que vai armazenar os meses a serem atribuídos\n",
        "    months_to_fill = []\n",
        "\n",
        "    # Para cada mês na distribuição, vamos adicionar o mês de forma proporcional\n",
        "    for month, count in month_counts.items():\n",
        "        months_to_fill.extend([month] * count)\n",
        "\n",
        "    # Para as músicas faltando mês, vamos preencher com base na lista 'months_to_fill'\n",
        "    df_ano_apenas['month'] = np.random.choice(months_to_fill, size=len(df_ano_apenas))\n",
        "\n",
        "    # Agora vamos juntar os dois DataFrames (completo e preenchido) novamente\n",
        "    # Garantindo que estamos mantendo todas as colunas, não apenas 'track_album_release_date'\n",
        "    df_completo['month'] = df_completo['month']  # As músicas já completas não devem ser modificadas\n",
        "    df_ano_apenas['track_album_release_date'] = df_ano_apenas['track_album_release_date'] + '-' + df_ano_apenas['month'] + '-01'\n",
        "\n",
        "    # Substituir as linhas no DataFrame original\n",
        "    songs.update(df_completo)  # Atualiza as músicas completas\n",
        "    songs.update(df_ano_apenas)  # Atualiza as músicas com ano apenas"
      ]
    },
    {
      "cell_type": "code",
      "execution_count": 82,
      "metadata": {
        "id": "IME6au2TV-yL"
      },
      "outputs": [],
      "source": [
        "# DECOMPÕE A COLUNA 'track_album_release_date' EM 'track_year' E 'track_month'.\n",
        "\n",
        "def decompositionDateTransform(df, date_column):\n",
        "    # Como o ano é composto de 4 dígitos, iremos extrair os 4 primeiros caracteres da coluna\n",
        "    def get_year(date):\n",
        "        if isinstance(date, str) and len(date) >= 4 and date[:4].isdigit():\n",
        "            return int(date[:4])\n",
        "        return None\n",
        "\n",
        "    # Depois dos 4 caracteres teremos um '-' que faz a divisão do ano e mês, iremos fazer\n",
        "    # split e pegaremos os dois próximos dígitos\n",
        "    def get_month(date):\n",
        "        if isinstance(date, str) and len(date) >= 7:\n",
        "            parts = date.split('-')\n",
        "            if len(parts) > 1 and parts[1].isdigit():\n",
        "                return f\"{int(parts[1]):02d}\"  # Garantir dois dígitos no mês\n",
        "        return None\n",
        "\n",
        "    # Agora adicionamos as novas colunas\n",
        "    df['track_year'] = df[date_column].apply(get_year)\n",
        "    df['track_month'] = df[date_column].apply(get_month)\n",
        "    return df"
      ]
    },
    {
      "cell_type": "code",
      "execution_count": 83,
      "metadata": {
        "id": "TV89L8g5jAQ9"
      },
      "outputs": [],
      "source": [
        "# DECOMPÕE 'duration_ms' EM 'track_minutes' E 'track_seconds'.\n",
        "\n",
        "def MilisecondsTransform(df, millis_column):\n",
        "    def get_minutes(millis):\n",
        "        if isinstance(millis, (int, float)) and millis >= 0:\n",
        "            return millis // 60000\n",
        "        return None\n",
        "\n",
        "    def get_seconds(millis):\n",
        "        if isinstance(millis, (int, float)) and millis >= 0:\n",
        "            return (millis % 60000) // 1000\n",
        "        return None\n",
        "\n",
        "    df['track_minutes'] = df[millis_column].apply(get_minutes)\n",
        "    df['track_seconds'] = df[millis_column].apply(get_seconds)\n",
        "    return df"
      ]
    },
    {
      "cell_type": "code",
      "execution_count": 84,
      "metadata": {
        "id": "crPoXWpnWPJQ"
      },
      "outputs": [],
      "source": [
        "# CLASSIFICA A COLUNA 'duration_ms' EM 0,1,2,3,4,5 e 6, NA COLUNA 'track_duration_classification'\n",
        "\n",
        "def classifyDuration(df, millis_column):\n",
        "    def classify(millis):\n",
        "        if isinstance(millis, (int, float)) and millis >= 0:\n",
        "            duration_minutes = millis / 60000\n",
        "            if duration_minutes == 0:\n",
        "                return 0\n",
        "            elif duration_minutes <= 1:\n",
        "                return 1\n",
        "            elif duration_minutes <= 2:\n",
        "                return 2\n",
        "            elif duration_minutes <= 3:\n",
        "                return 3\n",
        "            elif duration_minutes <= 4:\n",
        "                return 4\n",
        "            elif duration_minutes <= 5:\n",
        "                return 5\n",
        "            else:\n",
        "                return 6\n",
        "        return None\n",
        "\n",
        "    df['track_duration_classification'] = df[millis_column].apply(classify)\n",
        "    return df"
      ]
    },
    {
      "cell_type": "code",
      "execution_count": 85,
      "metadata": {
        "id": "5dwk-vyCWcZ-"
      },
      "outputs": [],
      "source": [
        "# RETORNA OS DADOS DISCRETIZADOS E POSSÍVEIS OUTLIERS\n",
        "\n",
        "def discretizeAndPossibleOutliers(data, n_bins=10, metodo='quantis'):\n",
        "    if metodo == 'quantis':\n",
        "        # Discretização baseada em quantis (divide os dados em n_bins intervalos com número igual de dados)\n",
        "        bins = np.percentile(data, np.linspace(0, 100, n_bins+1))\n",
        "        labels = [f'Intervalo {i+1}' for i in range(n_bins)]\n",
        "        data_discretizada = pd.cut(data, bins=bins, labels=labels, include_lowest=True)\n",
        "    elif metodo == 'igual':\n",
        "        # Discretização por intervalos iguais (divide os dados em n_bins intervalos de tamanho igual)\n",
        "        bins = np.linspace(data.min(), data.max(), n_bins+1)\n",
        "        labels = [f'Intervalo {i+1}' for i in range(n_bins)]\n",
        "        data_discretizada = pd.cut(data, bins=bins, labels=labels, include_lowest=True)\n",
        "    else:\n",
        "        raise ValueError(\"ERROR: 'quantis' ou 'igual'.\")\n",
        "\n",
        "    # Visualizar os dados discretizados\n",
        "    sns.histplot(data_discretizada, kde=False, discrete=True, color='skyblue')\n",
        "    plt.title('Distribuição dos Dados Discretizados')\n",
        "    plt.xlabel('I')\n",
        "    plt.ylabel('C')\n",
        "    plt.show()\n",
        "\n",
        "    # Identificar outliers (valores fora de 1.5 vezes o intervalo interquartil)\n",
        "    Q1 = np.percentile(data, 25)\n",
        "    Q3 = np.percentile(data, 75)\n",
        "    IQR = Q3 - Q1\n",
        "    outliers = data[(data < (Q1 - 1.5 * IQR)) | (data > (Q3 + 1.5 * IQR))]\n",
        "\n",
        "    return data_discretizada, outliers"
      ]
    },
    {
      "cell_type": "markdown",
      "metadata": {
        "id": "iKlbkionURRU"
      },
      "source": [
        "## 3.2 - Definição das **Funções de apoio**."
      ]
    },
    {
      "cell_type": "code",
      "execution_count": 86,
      "metadata": {
        "id": "fxTBAycLYB9E"
      },
      "outputs": [],
      "source": [
        "# Mostra nível de popularidade por gênero\n",
        "\n",
        "def popularityPerGenre(songs):\n",
        "    # Agrupar por 'playlist_genre' e calcular a média da popularidade\n",
        "    genre_popularity = songs.groupby(\"playlist_genre\")[\"track_popularity\"].mean()\n",
        "    # Ordenar os resultados em ordem decrescente\n",
        "    genre_popularity_sorted = genre_popularity.sort_values(ascending=False)\n",
        "    # Exibir os gêneros com músicas mais populares\n",
        "    print(genre_popularity_sorted)"
      ]
    },
    {
      "cell_type": "code",
      "execution_count": 87,
      "metadata": {
        "id": "jxGHs5dJYZAw"
      },
      "outputs": [],
      "source": [
        "# Retorna todos os artistas e suas respectivas popularidade\n",
        "\n",
        "def getArtistsAndPopularity(df, alpha=5):\n",
        "    # Verifica se as colunas necessárias existem no DataFrame\n",
        "    if 'track_artist' not in df.columns or 'track_popularity' not in df.columns:\n",
        "        raise ValueError(\"O dataset deve conter as colunas 'track_artist' e 'track_popularity'.\")\n",
        "    # Calcula a popularidade total por artista\n",
        "    artist_total_popularity = df.groupby('track_artist')['track_popularity'].sum()\n",
        "    # Conta o número de músicas por artista\n",
        "    artist_song_count = df.groupby('track_artist').size()\n",
        "    # Calcula a popularidade ponderada para cada artista\n",
        "    artist_weighted_popularity = artist_total_popularity / (artist_song_count + alpha)\n",
        "    # Ordena os artistas pela popularidade ponderada em ordem decrescente\n",
        "    artist_weighted_popularity_sorted = artist_weighted_popularity.sort_values(ascending=False)\n",
        "    # Retorna o DataFrame com o nome do artista e sua popularidade\n",
        "    return artist_weighted_popularity_sorted.reset_index()"
      ]
    },
    {
      "cell_type": "code",
      "execution_count": 88,
      "metadata": {
        "id": "lOQy0V_kYn_Q"
      },
      "outputs": [],
      "source": [
        "# Retorna as n musicas mais populares do dataset\n",
        "def getTopSongs(df,n):\n",
        "  return df[['track_name', 'track_popularity']].sort_values(by='track_popularity', ascending=False).head(n)"
      ]
    },
    {
      "cell_type": "code",
      "execution_count": 89,
      "metadata": {
        "id": "aHNPmzstNR-e"
      },
      "outputs": [],
      "source": [
        "# Mostra nível de popularidade por gênero\n",
        "\n",
        "def popularityPerGenre(songs):\n",
        "    # Agrupar por 'playlist_genre' e calcular a média da popularidade\n",
        "    genre_popularity = songs.groupby(\"playlist_genre\")[\"track_popularity\"].mean()\n",
        "    # Ordenar os resultados em ordem decrescente\n",
        "    genre_popularity_sorted = genre_popularity.sort_values(ascending=False)\n",
        "    # Exibir os gêneros com músicas mais populares\n",
        "    print(genre_popularity_sorted)\n"
      ]
    },
    {
      "cell_type": "markdown",
      "metadata": {
        "id": "qYnpRtwBb73_"
      },
      "source": [
        "# **PRÉ-PROCESSAMENTO**\n"
      ]
    },
    {
      "cell_type": "markdown",
      "metadata": {
        "id": "PFfYy62G2cbU"
      },
      "source": [
        "## Subfunções"
      ]
    },
    {
      "cell_type": "code",
      "execution_count": 60,
      "metadata": {
        "id": "mjzkxJ-Ag4YD"
      },
      "outputs": [],
      "source": [
        "#coleta\n",
        "#def coletar_dados(df):\n"
      ]
    },
    {
      "cell_type": "code",
      "execution_count": 90,
      "metadata": {
        "id": "m1R_Gwlkg-sb"
      },
      "outputs": [],
      "source": [
        "# Limpeza\n",
        "def data_cleaning(df):\n",
        "  #Removendo dados duplicados\n",
        "  df = removeDuplicates(df)\n",
        "\n",
        "  #Removendo linhas que possuem dados em branco e que não podem ser obtidos de forma ideal\n",
        "  df = dropRowsEmpty(df)\n",
        "\n",
        "  return df\n"
      ]
    },
    {
      "cell_type": "code",
      "execution_count": 91,
      "metadata": {
        "id": "YHRsd2jUhEeD"
      },
      "outputs": [],
      "source": [
        "# Seleção de Características\n",
        "def feature_selection(df):\n",
        "  # Dropando colunas que representam id\n",
        "  df = removeColumns(df,['track_id','track_album_id','playlist_id'])\n",
        "\n",
        "  # Dropando colunas de nomes que não irão agregar na predição do modelo\n",
        "  df = removeColumns(df,['track_name','track_album_name','playlist_name'])\n",
        "\n",
        "  return df"
      ]
    },
    {
      "cell_type": "code",
      "execution_count": 92,
      "metadata": {
        "id": "OToUIY2Gvums"
      },
      "outputs": [],
      "source": [
        "# Engenharia de Atributos\n",
        "def feature_engeneering(df):\n",
        "  # Decompõe a coluna 'track_album_release_date' em 'track_year' e 'track_month'\n",
        "  df = decompositionDateTransform(df,'track_album_release_date')\n",
        "\n",
        "  # Transforma a coluna 'duration_ms' em 'track_minutes' e 'track_seconds'\n",
        "  df = MilisecondsTransform(df,'duration_ms')\n",
        "\n",
        "  # Categoriza as musicas por 'duration_ms' e cria a coluna 'track_duration_classification':\n",
        "  df = classifyDuration(df,'duration_ms')\n",
        "\n",
        "  # Realiza oneHot para os 10 artistas mais populares do dataset\n",
        "  df = onehotTopArtists(df,10)\n",
        "\n",
        "  return df\n"
      ]
    },
    {
      "cell_type": "code",
      "execution_count": 93,
      "metadata": {
        "id": "-6WclD_lhKat"
      },
      "outputs": [],
      "source": [
        "# Normalização dos dados\n",
        "def data_normalize(df):\n",
        "  #(Rever isso)\n",
        "  # Colocando colunas na mesma escala (normalização)\n",
        "  df = normalizeColumns(df,['track_popularity','danceability','energy','key','loudness','mode','speechiness','acousticness'])\n",
        "  df = normalizeColumns(df,['instrumentalness','liveness','valence','tempo','track_minutes','track_seconds','track_year','track_month'])\n",
        "  df = normalizeColumns(df,['track_duration_classification'])\n",
        "\n",
        "  #(Rever isso)\n",
        "  # Já que foram aplicadas transformações em 'track_album_release_date' e 'duration_ms' iremos remover essas colunas pois não serão mais necessárias\n",
        "  df = removeColumns(df,['track_album_release_date','duration_ms'])\n",
        "\n",
        "  return df\n"
      ]
    },
    {
      "cell_type": "markdown",
      "metadata": {
        "id": "P4zegcUa2VDA"
      },
      "source": [
        "## Função Principal de pré-processamento dos dados"
      ]
    },
    {
      "cell_type": "code",
      "execution_count": 94,
      "metadata": {
        "id": "t9uSGad9cHk4"
      },
      "outputs": [],
      "source": [
        "#Função principal de pré processamento dos dados\n",
        "def pipeline_pre_process(df):\n",
        "  # Limpeza\n",
        "  df = data_cleaning(df)\n",
        "\n",
        "  # Seleção de características\n",
        "  df = feature_selection(df)\n",
        "\n",
        "  # Engenharia de Atributos\n",
        "  df = feature_engeneering(df)\n",
        "\n",
        "  # Normalização dos dados\n",
        "  df = data_normalize(df)\n",
        "\n",
        "  return df"
      ]
    },
    {
      "cell_type": "markdown",
      "source": [
        "## Aplicando pré-processamento no dataset"
      ],
      "metadata": {
        "id": "8VcYKJRWoWxw"
      }
    },
    {
      "cell_type": "code",
      "source": [
        "songs_cp = pipeline_pre_process(songs_cp)"
      ],
      "metadata": {
        "colab": {
          "base_uri": "https://localhost:8080/"
        },
        "id": "niR92gjdogcf",
        "outputId": "babe6a55-ff84-4794-a1e3-a60976f47b79"
      },
      "execution_count": 95,
      "outputs": [
        {
          "output_type": "stream",
          "name": "stdout",
          "text": [
            "\n",
            "Quantidade de valores nulos por coluna:\n",
            "track_id                    0\n",
            "track_name                  0\n",
            "track_artist                0\n",
            "track_popularity            0\n",
            "track_album_id              0\n",
            "track_album_name            0\n",
            "track_album_release_date    0\n",
            "playlist_name               0\n",
            "playlist_id                 0\n",
            "playlist_genre              0\n",
            "playlist_subgenre           0\n",
            "danceability                0\n",
            "energy                      0\n",
            "key                         0\n",
            "loudness                    0\n",
            "mode                        0\n",
            "speechiness                 0\n",
            "acousticness                0\n",
            "instrumentalness            0\n",
            "liveness                    0\n",
            "valence                     0\n",
            "tempo                       0\n",
            "duration_ms                 0\n",
            "dtype: int64\n",
            "Top artistas: ['Billie Eilish', 'Khalid', 'Coldplay', 'Ed Sheeran', 'Kygo', 'Bruno Mars', 'Frank Ocean', 'Young Thug', 'Katy Perry', 'Bad Bunny']\n"
          ]
        }
      ]
    },
    {
      "cell_type": "code",
      "source": [
        "songs_test = pipeline_pre_process(test_set)"
      ],
      "metadata": {
        "colab": {
          "base_uri": "https://localhost:8080/"
        },
        "id": "CvO6QFbAFTUD",
        "outputId": "e29f07a8-70a3-4663-d369-fc7042646176"
      },
      "execution_count": 98,
      "outputs": [
        {
          "output_type": "stream",
          "name": "stdout",
          "text": [
            "\n",
            "Quantidade de valores nulos por coluna:\n",
            "track_id                    0\n",
            "track_name                  0\n",
            "track_artist                0\n",
            "track_popularity            0\n",
            "track_album_id              0\n",
            "track_album_name            0\n",
            "track_album_release_date    0\n",
            "playlist_name               0\n",
            "playlist_id                 0\n",
            "playlist_genre              0\n",
            "playlist_subgenre           0\n",
            "danceability                0\n",
            "energy                      0\n",
            "key                         0\n",
            "loudness                    0\n",
            "mode                        0\n",
            "speechiness                 0\n",
            "acousticness                0\n",
            "instrumentalness            0\n",
            "liveness                    0\n",
            "valence                     0\n",
            "tempo                       0\n",
            "duration_ms                 0\n",
            "dtype: int64\n",
            "Top artistas: ['Justin Bieber', 'Selena Gomez', 'Khalid', 'Ozuna', 'Calvin Harris', 'Muse', 'Logic', 'The Chainsmokers', 'Drake', 'Myke Towers']\n"
          ]
        }
      ]
    },
    {
      "cell_type": "markdown",
      "metadata": {
        "id": "eXMPbPYOhlOZ"
      },
      "source": [
        "# **DATASET APÓS O PRÉ-PROCESSAMENTO**"
      ]
    },
    {
      "cell_type": "code",
      "source": [
        "songs_cp.info()"
      ],
      "metadata": {
        "colab": {
          "base_uri": "https://localhost:8080/"
        },
        "id": "uCTxAQdqCPAL",
        "outputId": "63082cd5-8d63-4899-e1ab-ef19f157b62e"
      },
      "execution_count": 96,
      "outputs": [
        {
          "output_type": "stream",
          "name": "stdout",
          "text": [
            "<class 'pandas.core.frame.DataFrame'>\n",
            "Index: 21604 entries, 12593 to 15795\n",
            "Data columns (total 30 columns):\n",
            " #   Column                         Non-Null Count  Dtype  \n",
            "---  ------                         --------------  -----  \n",
            " 0   track_artist                   21604 non-null  object \n",
            " 1   track_popularity               21604 non-null  float64\n",
            " 2   playlist_genre                 21604 non-null  object \n",
            " 3   playlist_subgenre              21604 non-null  object \n",
            " 4   danceability                   21604 non-null  float64\n",
            " 5   energy                         21604 non-null  float64\n",
            " 6   key                            21604 non-null  float64\n",
            " 7   loudness                       21604 non-null  float64\n",
            " 8   mode                           21604 non-null  float64\n",
            " 9   speechiness                    21604 non-null  float64\n",
            " 10  acousticness                   21604 non-null  float64\n",
            " 11  instrumentalness               21604 non-null  float64\n",
            " 12  liveness                       21604 non-null  float64\n",
            " 13  valence                        21604 non-null  float64\n",
            " 14  tempo                          21604 non-null  float64\n",
            " 15  track_year                     21604 non-null  float64\n",
            " 16  track_month                    20384 non-null  float64\n",
            " 17  track_minutes                  21604 non-null  float64\n",
            " 18  track_seconds                  21604 non-null  float64\n",
            " 19  track_duration_classification  21604 non-null  float64\n",
            " 20  artist_Billie Eilish           21604 non-null  int64  \n",
            " 21  artist_Khalid                  21604 non-null  int64  \n",
            " 22  artist_Coldplay                21604 non-null  int64  \n",
            " 23  artist_Ed Sheeran              21604 non-null  int64  \n",
            " 24  artist_Kygo                    21604 non-null  int64  \n",
            " 25  artist_Bruno Mars              21604 non-null  int64  \n",
            " 26  artist_Frank Ocean             21604 non-null  int64  \n",
            " 27  artist_Young Thug              21604 non-null  int64  \n",
            " 28  artist_Katy Perry              21604 non-null  int64  \n",
            " 29  artist_Bad Bunny               21604 non-null  int64  \n",
            "dtypes: float64(17), int64(10), object(3)\n",
            "memory usage: 5.1+ MB\n"
          ]
        }
      ]
    },
    {
      "cell_type": "code",
      "source": [
        "#TREINAMENTO DE UM MODELO RANDOMFLOREST\n",
        "def randomFLorestPrepareModel(songs_cp,):\n",
        "  # Separar variáveis preditoras e alvo\n",
        "  y = songs_cp['track_popularity']\n",
        "  X = songs_cp.drop(columns=['track_popularity'])\n",
        "  X = pd.get_dummies(X, drop_first=True)\n",
        "  return y,X\n"
      ],
      "metadata": {
        "id": "9zhdDiBYDRQC"
      },
      "execution_count": 99,
      "outputs": []
    },
    {
      "cell_type": "code",
      "source": [
        "#separando os target do alvo\n",
        "y,X = randomFLorestPrepareModel(songs_cp)\n",
        "y_test,X_test = randomFLorestPrepareModel(songs_test)"
      ],
      "metadata": {
        "id": "IvXQfdMcEo4_"
      },
      "execution_count": 100,
      "outputs": []
    },
    {
      "cell_type": "code",
      "source": [
        "#preparando e treinando o modelo com hyperparametros padrões\n",
        "randomFLorestModel = RandomForestRegressor(n_estimators=100, random_state=42)\n",
        "randomFLorestModel.fit(X,y)"
      ],
      "metadata": {
        "id": "6t3ZgojrEq9E"
      },
      "execution_count": null,
      "outputs": []
    },
    {
      "cell_type": "code",
      "source": [
        "#Fazer previsões\n",
        "y_pred = randomFLorestModel.predict(X_test)"
      ],
      "metadata": {
        "id": "ym26BLwOEvzY"
      },
      "execution_count": null,
      "outputs": []
    },
    {
      "cell_type": "code",
      "source": [
        "#Avaliar o modelo\n",
        "mae = mean_absolute_error(y_test, y_pred)\n",
        "mse = mean_squared_error(y_test, y_pred)\n",
        "rmse = np.sqrt(mse)\n",
        "r2 = r2_score(y_test, y_pred)\n",
        "\n",
        "print(f'MAE: {mae:.2f}')\n",
        "print(f'RMSE: {rmse:.2f}')\n",
        "print(f'R²: {r2:.2f}')"
      ],
      "metadata": {
        "id": "koQLjU3FFxpL"
      },
      "execution_count": null,
      "outputs": []
    }
  ],
  "metadata": {
    "colab": {
      "collapsed_sections": [
        "hFKWoFgIhPo4",
        "kdPTvYXBNR-c",
        "fqDKSjEWb_6g",
        "MkP_rnCqN37-",
        "Tw9XlkqZODQt",
        "1vUZ2NYEUEHC",
        "iKlbkionURRU",
        "qYnpRtwBb73_",
        "PFfYy62G2cbU",
        "P4zegcUa2VDA",
        "8VcYKJRWoWxw",
        "eXMPbPYOhlOZ"
      ],
      "provenance": [],
      "include_colab_link": true
    },
    "kernelspec": {
      "display_name": "venv",
      "language": "python",
      "name": "python3"
    },
    "language_info": {
      "codemirror_mode": {
        "name": "ipython",
        "version": 3
      },
      "file_extension": ".py",
      "mimetype": "text/x-python",
      "name": "python",
      "nbconvert_exporter": "python",
      "pygments_lexer": "ipython3",
      "version": "3.10.12"
    }
  },
  "nbformat": 4,
  "nbformat_minor": 0
}